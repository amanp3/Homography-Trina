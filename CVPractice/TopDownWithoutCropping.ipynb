{
 "cells": [
  {
   "cell_type": "code",
   "execution_count": 2,
   "id": "1ddf23c6",
   "metadata": {},
   "outputs": [],
   "source": [
    "from typing import Tuple\n",
    "import cv2\n",
    "import numpy as np\n",
    "import math"
   ]
  },
  {
   "cell_type": "code",
   "execution_count": 3,
   "id": "60ec13b3",
   "metadata": {},
   "outputs": [],
   "source": [
    "# Input: a source image and perspective transform\n",
    "# Output: a warped image and 2 translation terms\n",
    "def perspective_warp(image: np.ndarray, transform: np.ndarray) -> Tuple[np.ndarray, int, int]:\n",
    "    h, w = image.shape[:2]\n",
    "    corners_bef = np.float32([[0, 0], [w, 0], [w, h], [0, h]]).reshape(-1, 1, 2)\n",
    "    corners_aft = cv2.perspectiveTransform(corners_bef, transform)\n",
    "    xmin = math.floor(corners_aft[:, 0, 0].min())\n",
    "    ymin = math.floor(corners_aft[:, 0, 1].min())\n",
    "    xmax = math.ceil(corners_aft[:, 0, 0].max())\n",
    "    ymax = math.ceil(corners_aft[:, 0, 1].max())\n",
    "    x_adj = math.floor(xmin - corners_aft[0, 0, 0])\n",
    "    y_adj = math.floor(ymin - corners_aft[0, 0, 1])\n",
    "    translate = np.eye(3)\n",
    "    translate[0, 2] = -xmin\n",
    "    translate[1, 2] = -ymin\n",
    "    corrected_transform = np.matmul(translate, transform)\n",
    "    return cv2.warpPerspective(image, corrected_transform, (math.ceil(xmax - xmin), math.ceil(ymax - ymin))), x_adj, y_adj\n",
    "\n",
    "# Just like perspective_warp, but it also returns an alpha mask that can be used for blitting\n",
    "def perspective_warp_with_mask(image: np.ndarray, transform: np.ndarray) -> Tuple[np.ndarray, np.ndarray, int, int]:\n",
    "    mask_in = np.empty(image.shape, dtype = np.uint8)\n",
    "    mask_in.fill(255)\n",
    "    output, x_adj, y_adj = perspective_warp(image, transform)\n",
    "    mask, _, _ = perspective_warp(mask_in, transform)\n",
    "    return output, mask, x_adj, y_adj\n",
    "\n",
    "# alpha_blits src onto dest according to the alpha values in mask at location (x, y),\n",
    "# ignoring any parts that do not overlap\n",
    "def alpha_blit(dest: np.ndarray, src: np.ndarray, mask: np.ndarray, x: int, y: int) -> None:\n",
    "    dl = max(x, 0)\n",
    "    dt = max(y, 0)\n",
    "    sl = max(-x, 0)\n",
    "    st = max(-y, 0)\n",
    "    sr = max(sl, min(src.shape[1], dest.shape[1] - x))\n",
    "    sb = max(st, min(src.shape[0], dest.shape[0] - y))\n",
    "    dr = dl + sr - sl\n",
    "    db = dt + sb - st\n",
    "    m = mask[st:sb, sl:sr]\n",
    "    dest[dt:db, dl:dr] = (dest[dt:db, dl:dr].astype(np.float) * (255 - m) + src[st:sb, sl:sr].astype(np.float) * m) / 255\n",
    "\n",
    "# blits a perspective-warped src image onto dest\n",
    "def perspective_blit(dest: np.ndarray, src: np.ndarray, transform: np.ndarray) -> None:\n",
    "    blitme, mask, x_adj, y_adj = perspective_warp_with_mask(src, transform)\n",
    "    cv2.imwrite(\"blitme.png\", blitme)\n",
    "    alpha_blit(dest, blitme, mask, int(transform[0, 2] + x_adj), int(transform[1, 2] + y_adj))"
   ]
  },
  {
   "cell_type": "code",
   "execution_count": 4,
   "id": "973d5208",
   "metadata": {},
   "outputs": [],
   "source": [
    "# Read an input image\n",
    "image: np.array = cv2.imread(r'C:\\Users\\Aman\\Desktop\\School\\Python\\TRINA\\CVPractice\\testJPN.png')\n",
    "\n",
    "# Make a perspective transform\n",
    "h, w = image.shape[:2]\n",
    "corners_in = np.float32([[[0, 0]], [[w, 0]], [[w, h]], [[0, h]]])\n",
    "corners_out = np.float32([[[100, 100]], [[300, -100]], [[500, 300]], [[-50, 500]]])\n",
    "transform = cv2.getPerspectiveTransform(corners_in, corners_out)\n",
    "cv2.imshow('transform', transform)"
   ]
  },
  {
   "cell_type": "code",
   "execution_count": 5,
   "id": "48c992fc",
   "metadata": {},
   "outputs": [
    {
     "name": "stderr",
     "output_type": "stream",
     "text": [
      "C:\\Users\\Aman\\AppData\\Local\\Temp\\ipykernel_14932\\899148988.py:39: DeprecationWarning: `np.float` is a deprecated alias for the builtin `float`. To silence this warning, use `float` by itself. Doing this will not modify any behavior and is safe. If you specifically wanted the numpy scalar type, use `np.float64` here.\n",
      "Deprecated in NumPy 1.20; for more details and guidance: https://numpy.org/devdocs/release/1.20.0-notes.html#deprecations\n",
      "  dest[dt:db, dl:dr] = (dest[dt:db, dl:dr].astype(np.float) * (255 - m) + src[st:sb, sl:sr].astype(np.float) * m) / 255\n"
     ]
    }
   ],
   "source": [
    "# Blit the warped image on top of the original\n",
    "perspective_blit(image, image, transform)\n",
    "cv2.imshow('image', image)\n",
    "cv2.waitKey(0)"
   ]
  },
  {
   "cell_type": "code",
   "execution_count": null,
   "id": "68f10dd9",
   "metadata": {},
   "outputs": [],
   "source": []
  }
 ],
 "metadata": {
  "kernelspec": {
   "display_name": "Python 3 (ipykernel)",
   "language": "python",
   "name": "python3"
  },
  "language_info": {
   "codemirror_mode": {
    "name": "ipython",
    "version": 3
   },
   "file_extension": ".py",
   "mimetype": "text/x-python",
   "name": "python",
   "nbconvert_exporter": "python",
   "pygments_lexer": "ipython3",
   "version": "3.9.6"
  }
 },
 "nbformat": 4,
 "nbformat_minor": 5
}
