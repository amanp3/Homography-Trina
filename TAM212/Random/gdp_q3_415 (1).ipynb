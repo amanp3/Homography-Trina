{
 "cells": [
  {
   "cell_type": "code",
   "execution_count": 1,
   "metadata": {},
   "outputs": [
    {
     "name": "stderr",
     "output_type": "stream",
     "text": [
      "Matplotlib created a temporary config/cache directory at /tmp/matplotlib-hvgy0o_7 because the default path (/tmp/cache/matplotlib) is not a writable directory; it is highly recommended to set the MPLCONFIGDIR environment variable to a writable directory, in particular to speed up the import of Matplotlib and to better support multiprocessing.\n"
     ]
    }
   ],
   "source": [
    "import numpy as np\n",
    "import numpy.linalg as la\n",
    "import scipy.linalg as sla\n",
    "import matplotlib.pyplot as plt\n",
    "import pandas as pd"
   ]
  },
  {
   "cell_type": "markdown",
   "metadata": {},
   "source": [
    "## Using Linear Least-Squares to fit GDP data"
   ]
  },
  {
   "cell_type": "markdown",
   "metadata": {},
   "source": [
    "Quarterly economic data is subject to seasonal fluctuations. A curve that approximates the gross domestic product (GDP) of a country might be of the form\n",
    "$$ y = \\beta_0 + \\beta_1 t + \\beta_2 \\sin\\big(\\frac{\\pi t}{2}\\big),$$\n",
    "where $t$ is the time (measured in annual quarters, each of which is 3 months long), and $y$ is the GDP. The linear term $\\beta_0 + \\beta_1 t$ gives the basic GDP growth trend of the economy while the sine term reflects the seasonal changes.\n",
    "Suppose we have $n$ GDP data points $(t_0, y_0), (t_1, y_1) \\dots, (t_{n-1}, y_{n-1}).$"
   ]
  },
  {
   "cell_type": "markdown",
   "metadata": {},
   "source": [
    "In this example, we will consider U.S. GDP data for each quarter since Q1 2002, courtesy of the [Federal Reserve Bank of St. Louis](https://fred.stlouisfed.org/series/ND000334Q). You are given numpy arrays `t` and `y` which compose the $n=75$ data points covering Q1 2002 through Q4 2020 (inclusive).\n",
    "\n",
    "These data are provided as $t = [t_0, t_1, \\dots, t_{n-1}]$ and $y = [y_0, y_1, \\dots, y_{n-1}]$, where each $t_i$ denotes the $i$th fiscal quarter after Q1 2002 and $y_i$ denotes the corresponding GDP value for the U.S. economy in billions of USD (adjusted for inflation to 2012 USD value)."
   ]
  },
  {
   "cell_type": "code",
   "execution_count": 2,
   "metadata": {},
   "outputs": [],
   "source": [
    "GDP_df = pd.read_csv(\"GDP_Q12002_Q42020.csv\", dtype={'DATE': object, 'ND0000334Q': np.double},\n",
    "                     parse_dates=True, header=0, names=['DATE','GDP'])\n",
    "y = GDP_df[\"GDP\"].to_numpy()\n",
    "t = np.array(range(len(y)))"
   ]
  },
  {
   "cell_type": "markdown",
   "metadata": {},
   "source": [
    "And we can plot our data for the U.S. GDP:"
   ]
  },
  {
   "cell_type": "code",
   "execution_count": 3,
   "metadata": {},
   "outputs": [
    {
     "data": {
      "text/plain": [
       "Text(0, 0.5, 'U.S. GDP (2012 $1B)')"
      ]
     },
     "execution_count": 3,
     "metadata": {},
     "output_type": "execute_result"
    },
    {
     "data": {
      "image/png": "[encoded data removed]",
      "text/plain": [
       "<Figure size 432x288 with 1 Axes>"
      ]
     },
     "metadata": {
      "needs_background": "light"
     },
     "output_type": "display_data"
    }
   ],
   "source": [
    "plt.plot(t, y, 'o', color='red')\n",
    "plt.xlabel(\"Quarters since Q1 2002\")\n",
    "plt.ylabel(\"U.S. GDP (2012 $1B)\")"
   ]
  },
  {
   "cell_type": "markdown",
   "metadata": {},
   "source": [
    "Note that $t_0 = 0$ denotes $0$ fiscal quarters since Q1 2002, so $y_0$ is the (inflation-adjusted) GDP for Q1 2002. \n",
    "\n",
    "Similarly, $t_{31} = 31$ denotes $31$ fiscal quarters since Q1 2002, so $y_{31}$ is the GDP for Q3 2009. \n",
    "\n",
    "The last data point corresponds to $75^{th}$ fiscal quarter since Q1 2002, and hence $y_{75}$ is the GDP for Q4 2020. \n",
    "\n",
    "\n",
    "Check these values in the arrays!"
   ]
  },
  {
   "cell_type": "code",
   "execution_count": null,
   "metadata": {},
   "outputs": [],
   "source": []
  },
  {
   "cell_type": "markdown",
   "metadata": {},
   "source": [
    "### 1) Find the coefficients $\\beta_i$ using the Linear Least Squares model:"
   ]
  },
  {
   "cell_type": "markdown",
   "metadata": {},
   "source": [
    "Write a function `design_matrix` which takes as input a numpy array with shape `(n,)` that stores the values for $t$, and outputs the design matrix `A`, which leads to a least-squares fit to the equation above.\n",
    "```python\n",
    "def design_matrix(t):\n",
    "    # t is a 1d numpy array with shape (n,) storing [t0, t1, t2, ...]\n",
    "    # compute A, a 2d numpy array, following the model above\n",
    "    return A\n",
    "```   "
   ]
  },
  {
   "cell_type": "code",
   "execution_count": 5,
   "metadata": {},
   "outputs": [],
   "source": [
    "#grade (DO NOT DELETE THIS LINE)\n",
    "def design_matrix(t):\n",
    "    A = np.zeros(shape=(t.shape[0], 3))\n",
    "    for i in range(t.shape[0]):\n",
    "        A[i, 0] = 1\n",
    "        A[i, 1] = t[i]\n",
    "        A[i, 2] = np.sin(np.pi * t[i]/2)\n",
    "    return A"
   ]
  },
  {
   "cell_type": "markdown",
   "metadata": {},
   "source": [
    "You are now supposed to compute the linear least-squares problem solution `x` given the design matrix `A` and the vector `y`, s.t. \n",
    "\n",
    "$${\\bf A}{\\bf x} \\cong {\\bf y}  $$\n",
    "\n",
    "You can use the built-in function `numpy.linalg.lstsq(A,y)` function to solve the linear least-squares problem. Note that this function will return 4 different values, and the solution you want is the first one of them. Check the [documentation](https://numpy.org/doc/stable/reference/generated/numpy.linalg.lstsq.html) to see how you can use this function, which essentially performs the same thing as the `least_sq` function that you implemented in the Lesson 9 notebook. To prevent the function `numpy.linalg.lstsq` from returning a warning, you can use the attribute `rcond=None`.\n",
    "\n",
    "Store the model coefficients $[\\beta_0, \\beta_1, \\beta_2]$ as a numpy array called `coeff`."
   ]
  },
  {
   "cell_type": "code",
   "execution_count": 10,
   "metadata": {},
   "outputs": [
    {
     "name": "stderr",
     "output_type": "stream",
     "text": [
      "<ipython-input-10-6f2a72ced794>:3: VisibleDeprecationWarning: Creating an ndarray from ragged nested sequences (which is a list-or-tuple of lists-or-tuples-or ndarrays with different lengths or shapes) is deprecated. If you meant to do this, you must specify 'dtype=object' when creating the ndarray\n",
      "  coeff = np.array(la.lstsq(A, y, rcond=None))[0]\n"
     ]
    }
   ],
   "source": [
    "#grade (DO NOT DELETE THIS LINE)\n",
    "A = design_matrix(t)\n",
    "coeff = np.array(la.lstsq(A, y, rcond=None))[0]\n"
   ]
  },
  {
   "cell_type": "code",
   "execution_count": 11,
   "metadata": {},
   "outputs": [],
   "source": [
    "tt = np.linspace(0., len(y)-1, 100)\n",
    "ytilde = design_matrix(tt) @ coeff"
   ]
  },
  {
   "cell_type": "code",
   "execution_count": 12,
   "metadata": {},
   "outputs": [
    {
     "data": {
      "text/plain": [
       "<matplotlib.legend.Legend at 0x7f9003b12760>"
      ]
     },
     "execution_count": 12,
     "metadata": {},
     "output_type": "execute_result"
    },
    {
     "data": {
      "image/png": "[encoded data removed]",
      "text/plain": [
       "<Figure size 576x576 with 1 Axes>"
      ]
     },
     "metadata": {
      "needs_background": "light"
     },
     "output_type": "display_data"
    }
   ],
   "source": [
    "plt.figure(figsize=(8,8))\n",
    "\n",
    "plt.plot(t, y, 'o', color='red', label='actual')\n",
    "plt.plot(tt,ytilde , '--', color='purple', label='LS model')\n",
    "plt.xlabel(\"Quarters since Q1 2002\")\n",
    "plt.ylabel(\"U.S. GDP (2012 $1B)\")\n",
    "plt.legend()"
   ]
  },
  {
   "cell_type": "markdown",
   "metadata": {},
   "source": [
    "The *residual* is defined as $y - \\tilde{y}$, where $y$ denotes the actual result we are seeking and $\\tilde{y}$ denotes the approximated result. Hence the residual vector is ${\\bf r} = {\\bf y}-{\\bf A x}$,\n",
    "\n",
    "Compute the maximum absolute residual between your fitted model and the actual GDP data. Store this **scalar** value as `max_resid`."
   ]
  },
  {
   "cell_type": "code",
   "execution_count": 18,
   "metadata": {},
   "outputs": [],
   "source": [
    "#grade (DO NOT DELETE THIS LINE)\n",
    "r = np.zeros(shape=(t.shape[0], 1))\n",
    "tilde = design_matrix(t) @ coeff\n",
    "for i in range(t.shape[0]):\n",
    "    r[i] = np.abs(y[i] - tilde[i])\n",
    "max_resid = max(max(r))"
   ]
  },
  {
   "cell_type": "markdown",
   "metadata": {},
   "source": [
    "----------------------"
   ]
  },
  {
   "cell_type": "markdown",
   "metadata": {},
   "source": [
    "### 2) Removing the \"outlier\" events\n",
    "\n",
    "By inspecting the plot, we might recall two major events which deeply impacted the U.S. economy during the timeframe covered by our data points: the Global Financial Crisis (GFC) of 2007-2008, caused by excessive risk-taking by banks and the bursting of the U.S. housing bubble, and the current COVID-19 pandemic. Let's consider a time period *between* these events to better capture the basic GDP trend of the U.S. economy. This will help us understand economic trends during times of relative normalcy.\n",
    "\n",
    "**Extract (from `y`) the GDP data starting with Q3 2009 and ending with Q1 2020 (inclusive). Store this as a numpy array `y_normal`.**\n",
    "\n",
    "*Hint: `t[31]` corresponds to Q3 2009. Which index of `t` corresponds to Q1 2020?*"
   ]
  },
  {
   "cell_type": "code",
   "execution_count": 22,
   "metadata": {},
   "outputs": [],
   "source": [
    "#grade (DO NOT DELETE THIS LINE)\n",
    "y_normal = y[31:73]"
   ]
  },
  {
   "cell_type": "markdown",
   "metadata": {},
   "source": [
    "We provide the re-indexed `t_normal` $= [t'_0, t'_1, \\dots, t'_m]$ such that $t'_i$ denotes the $i$th fiscal quarter since Q3 2009. Use this array with your `y_normal` to re-run the analysis. "
   ]
  },
  {
   "cell_type": "code",
   "execution_count": 23,
   "metadata": {},
   "outputs": [
    {
     "data": {
      "text/plain": [
       "array([ 0,  1,  2,  3,  4,  5,  6,  7,  8,  9, 10, 11, 12, 13, 14, 15, 16,\n",
       "       17, 18, 19, 20, 21, 22, 23, 24, 25, 26, 27, 28, 29, 30, 31, 32, 33,\n",
       "       34, 35, 36, 37, 38, 39, 40, 41])"
      ]
     },
     "execution_count": 23,
     "metadata": {},
     "output_type": "execute_result"
    }
   ],
   "source": [
    "t_normal = np.arange(len(y_normal))\n",
    "t_normal"
   ]
  },
  {
   "cell_type": "markdown",
   "metadata": {},
   "source": [
    "Find the coefficients for the model representing the least-squares fit to these \"normal\" data points (data that fits `t_normal` and `y_normal`).\n",
    "\n",
    "These coefficients should be stored as a 1d numpy array `x_normal`, the solution of the linear least-squares problem.\n",
    "\n",
    "Find and store the maximum absolute residual as `max_resid_normal`."
   ]
  },
  {
   "cell_type": "code",
   "execution_count": 27,
   "metadata": {},
   "outputs": [
    {
     "name": "stderr",
     "output_type": "stream",
     "text": [
      "<ipython-input-27-e7a14bb059e7>:3: VisibleDeprecationWarning: Creating an ndarray from ragged nested sequences (which is a list-or-tuple of lists-or-tuples-or ndarrays with different lengths or shapes) is deprecated. If you meant to do this, you must specify 'dtype=object' when creating the ndarray\n",
      "  x_normal = np.array(la.lstsq(A, y_normal, rcond=None))[0]\n"
     ]
    }
   ],
   "source": [
    "#grade (DO NOT DELETE THIS LINE)\n",
    "A = design_matrix(t_normal)\n",
    "x_normal = np.array(la.lstsq(A, y_normal, rcond=None))[0]\n",
    "\n",
    "r = np.zeros(shape=(t_normal.shape[0], 1))\n",
    "tilde = design_matrix(t_normal) @ x_normal\n",
    "for i in range(t_normal.shape[0]):\n",
    "    r[i] = np.abs(y_normal[i] - tilde[i])\n",
    "max_resid_normal = max(max(r))"
   ]
  },
  {
   "cell_type": "code",
   "execution_count": 25,
   "metadata": {},
   "outputs": [
    {
     "data": {
      "text/plain": [
       "<matplotlib.legend.Legend at 0x7f9003a9adf0>"
      ]
     },
     "execution_count": 25,
     "metadata": {},
     "output_type": "execute_result"
    },
    {
     "data": {
      "image/png": "[encoded data removed]",
      "text/plain": [
       "<Figure size 432x288 with 1 Axes>"
      ]
     },
     "metadata": {
      "needs_background": "light"
     },
     "output_type": "display_data"
    }
   ],
   "source": [
    "tt = np.linspace(0., len(y_normal)-1, num=10**3)\n",
    "plt.plot(t_normal, y_normal, 'o', color='red', label='actual')\n",
    "plt.plot(tt, design_matrix(tt) @ x_normal, '--', color='purple', label='predicted')\n",
    "plt.xlabel(\"Quarters since Q3 2009\")\n",
    "plt.ylabel(\"U.S. GDP (2012 $1B)\")\n",
    "plt.legend()"
   ]
  },
  {
   "cell_type": "markdown",
   "metadata": {},
   "source": [
    "----------------------"
   ]
  },
  {
   "cell_type": "markdown",
   "metadata": {},
   "source": [
    "### 3) Making predictions"
   ]
  },
  {
   "cell_type": "markdown",
   "metadata": {},
   "source": [
    "What happens if we disregard the coefficient $\\beta_2$ in our model? So instead of \n",
    "\n",
    "$$ y = \\beta_0 + \\beta_1 t + \\beta_2 \\sin\\big(\\frac{\\pi t}{2}\\big)$$\n",
    "\n",
    "we would use\n",
    "\n",
    "$$ y = \\beta_0 + \\beta_1 t $$\n",
    "\n",
    "which would give us a straight line that fits the data points. Note that, in general, we would need to compute the linear least-squares solution using this other model (new design matrix ${\\bf A}$ resulting in new coefficients $\\beta_0$ and $\\beta_1$). However, in this example, since the oscillations are very small, we can just approximate our new fit using the coefficients $\\beta_0$ and $\\beta_1$ obtained in the previous section (you can check that indeed this is a very good approximation).\n"
   ]
  },
  {
   "cell_type": "code",
   "execution_count": 28,
   "metadata": {},
   "outputs": [],
   "source": [
    "tt = np.linspace(0., len(y_normal)-1, num=10**3)\n",
    "new_fit = x_normal[0] + x_normal[1]*tt"
   ]
  },
  {
   "cell_type": "code",
   "execution_count": 29,
   "metadata": {},
   "outputs": [
    {
     "data": {
      "text/plain": [
       "<matplotlib.legend.Legend at 0x7f9003af93d0>"
      ]
     },
     "execution_count": 29,
     "metadata": {},
     "output_type": "execute_result"
    },
    {
     "data": {
      "image/png": "[encoded data removed]",
      "text/plain": [
       "<Figure size 432x288 with 1 Axes>"
      ]
     },
     "metadata": {
      "needs_background": "light"
     },
     "output_type": "display_data"
    }
   ],
   "source": [
    "plt.plot(t_normal, y_normal, 'o', color='red', label='actual')\n",
    "plt.plot(tt, new_fit, '--', color='purple', label='line fit')\n",
    "plt.xlabel(\"Quarters since Q3 2009\")\n",
    "plt.ylabel(\"U.S. GDP (2012 $1B)\")\n",
    "plt.legend()"
   ]
  },
  {
   "cell_type": "markdown",
   "metadata": {},
   "source": [
    "Recall that the model above (labeled as `line fit`) is only using data from Q3 2009 and ending with Q1 2020 (which avoids the impact of COVID). Use this model to predict the GDP in the following quarters:\n",
    "\n",
    "Store in `y2020q2` the GDP in Q2 2020.\n",
    "\n",
    "Store in `y2020q3` the GDP in Q3 2020.\n",
    "\n",
    "Store in `y2020q4` the GDP in Q4 2020.\n",
    "\n",
    "Store in `y2021q1` the GDP in Q1 2021."
   ]
  },
  {
   "cell_type": "code",
   "execution_count": 30,
   "metadata": {},
   "outputs": [],
   "source": [
    "#grade (DO NOT DELETE THIS LINE)\n",
    "y2020q2 = x_normal[0] + x_normal[1]*42\n",
    "y2020q3 = x_normal[0] + x_normal[1]*43\n",
    "y2020q4 = x_normal[0] + x_normal[1]*44\n",
    "y2021q1 = x_normal[0] + x_normal[1]*45"
   ]
  },
  {
   "cell_type": "markdown",
   "metadata": {},
   "source": [
    "How good are the predictions using this model? We can already compare the data for Q2, Q3, and Q4 of last year. You can come back to this example once the data for Q1 2021 has been finalized, and compare your results :-)."
   ]
  },
  {
   "cell_type": "code",
   "execution_count": 31,
   "metadata": {},
   "outputs": [
    {
     "name": "stdout",
     "output_type": "stream",
     "text": [
      "Actual GDP for Q2 2020:  4333.81\n",
      "Predicted GDP for Q2 2020:  4823.608613767703\n"
     ]
    }
   ],
   "source": [
    "print('Actual GDP for Q2 2020: ' , y[-3])\n",
    "print('Predicted GDP for Q2 2020: ' , y2020q2)"
   ]
  },
  {
   "cell_type": "code",
   "execution_count": 32,
   "metadata": {},
   "outputs": [
    {
     "name": "stdout",
     "output_type": "stream",
     "text": [
      "Actual GDP for Q3 2020:  4687.826\n",
      "Predicted GDP for Q3 2020:  4847.800843137851\n"
     ]
    }
   ],
   "source": [
    "print('Actual GDP for Q3 2020: ' , y[-2])\n",
    "print('Predicted GDP for Q3 2020: ' , y2020q3)"
   ]
  },
  {
   "cell_type": "code",
   "execution_count": 33,
   "metadata": {},
   "outputs": [
    {
     "name": "stdout",
     "output_type": "stream",
     "text": [
      "Actual GDP for Q4 2020:  4818.083\n",
      "Predicted GDP for Q4 2020:  4871.993072507999\n"
     ]
    }
   ],
   "source": [
    "print('Actual GDP for Q4 2020: ' , y[-1])\n",
    "print('Predicted GDP for Q4 2020: ' , y2020q4)"
   ]
  },
  {
   "cell_type": "code",
   "execution_count": null,
   "metadata": {},
   "outputs": [],
   "source": []
  }
 ],
 "metadata": {
  "kernelspec": {
   "display_name": "Python 3",
   "language": "python",
   "name": "python3"
  },
  "language_info": {
   "codemirror_mode": {
    "name": "ipython",
    "version": 3
   },
   "file_extension": ".py",
   "mimetype": "text/x-python",
   "name": "python",
   "nbconvert_exporter": "python",
   "pygments_lexer": "ipython3",
   "version": "3.8.6"
  }
 },
 "nbformat": 4,
 "nbformat_minor": 4
}
